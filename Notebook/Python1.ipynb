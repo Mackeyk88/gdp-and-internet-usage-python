{
 "cells": [
  {
   "cell_type": "code",
   "execution_count": 77,
   "id": "440e011c",
   "metadata": {},
   "outputs": [],
   "source": [
    "import pandas as pd\n",
    "import numpy as np\n",
    "import matplotlib.pyplot as plt\n",
    "import seaborn as sns"
   ]
  },
  {
   "cell_type": "code",
   "execution_count": 78,
   "id": "de70f5a6",
   "metadata": {},
   "outputs": [],
   "source": [
    "%matplotlib inline"
   ]
  },
  {
   "cell_type": "code",
   "execution_count": 79,
   "id": "f044e6b0",
   "metadata": {},
   "outputs": [],
   "source": [
    "gdp_df = pd.read_csv(\"../Data/gdp_percapita.csv\", nrows=6868)\n",
    "internet_df = pd.read_csv(\"../Data/internet_use.csv\", nrows=4495)"
   ]
  },
  {
   "cell_type": "markdown",
   "id": "6b871b57",
   "metadata": {},
   "source": [
    "Question 7: Look at the shape of each DataFrame - how many rows? How many columns?"
   ]
  },
  {
   "cell_type": "code",
   "execution_count": 80,
   "id": "5165a2d4",
   "metadata": {},
   "outputs": [
    {
     "name": "stdout",
     "output_type": "stream",
     "text": [
      "<class 'pandas.core.frame.DataFrame'>\n",
      "RangeIndex: 6868 entries, 0 to 6867\n",
      "Data columns (total 4 columns):\n",
      " #   Column           Non-Null Count  Dtype  \n",
      "---  ------           --------------  -----  \n",
      " 0   Country or Area  6868 non-null   object \n",
      " 1   Year             6868 non-null   int64  \n",
      " 2   Value            6868 non-null   float64\n",
      " 3   Value Footnotes  1 non-null      float64\n",
      "dtypes: float64(2), int64(1), object(1)\n",
      "memory usage: 214.8+ KB\n"
     ]
    }
   ],
   "source": [
    "gdp_df.info()"
   ]
  },
  {
   "cell_type": "markdown",
   "id": "ad9482b2",
   "metadata": {},
   "source": [
    "6868 Rows, 4 Columns"
   ]
  },
  {
   "cell_type": "code",
   "execution_count": 81,
   "id": "1d355416",
   "metadata": {},
   "outputs": [
    {
     "name": "stdout",
     "output_type": "stream",
     "text": [
      "<class 'pandas.core.frame.DataFrame'>\n",
      "RangeIndex: 4495 entries, 0 to 4494\n",
      "Data columns (total 4 columns):\n",
      " #   Column           Non-Null Count  Dtype  \n",
      "---  ------           --------------  -----  \n",
      " 0   Country or Area  4495 non-null   object \n",
      " 1   Year             4495 non-null   int64  \n",
      " 2   Value            4495 non-null   float64\n",
      " 3   Value Footnotes  948 non-null    float64\n",
      "dtypes: float64(2), int64(1), object(1)\n",
      "memory usage: 140.6+ KB\n"
     ]
    }
   ],
   "source": [
    "internet_df.info()"
   ]
  },
  {
   "cell_type": "markdown",
   "id": "799d2c32",
   "metadata": {},
   "source": [
    "Question 8: Take a look at the datatypes for the columns in each DataFrame."
   ]
  },
  {
   "cell_type": "markdown",
   "id": "9ef60a81",
   "metadata": {},
   "source": [
    "4495 Rows, 4 columns"
   ]
  },
  {
   "cell_type": "code",
   "execution_count": 82,
   "id": "9bb194a9",
   "metadata": {},
   "outputs": [
    {
     "data": {
      "text/plain": [
       "Country or Area     object\n",
       "Year                 int64\n",
       "Value              float64\n",
       "Value Footnotes    float64\n",
       "dtype: object"
      ]
     },
     "execution_count": 82,
     "metadata": {},
     "output_type": "execute_result"
    }
   ],
   "source": [
    "gdp_df.dtypes"
   ]
  },
  {
   "cell_type": "code",
   "execution_count": 83,
   "id": "b4513646",
   "metadata": {},
   "outputs": [
    {
     "data": {
      "text/plain": [
       "Country or Area     object\n",
       "Year                 int64\n",
       "Value              float64\n",
       "Value Footnotes    float64\n",
       "dtype: object"
      ]
     },
     "execution_count": 83,
     "metadata": {},
     "output_type": "execute_result"
    }
   ],
   "source": [
    "internet_df.dtypes"
   ]
  },
  {
   "cell_type": "markdown",
   "id": "5aa3c851",
   "metadata": {},
   "source": [
    "Question 9: Take a look at the last 10 rows of each DataFrame in turn."
   ]
  },
  {
   "cell_type": "code",
   "execution_count": 84,
   "id": "f5a49cf0",
   "metadata": {},
   "outputs": [
    {
     "name": "stdout",
     "output_type": "stream",
     "text": [
      "     Country or Area  Year        Value  Value Footnotes\n",
      "6858        Zimbabwe  1999  3600.849291              NaN\n",
      "6859        Zimbabwe  1998  3653.920016              NaN\n",
      "6860        Zimbabwe  1997  3580.048793              NaN\n",
      "6861        Zimbabwe  1996  3520.430146              NaN\n",
      "6862        Zimbabwe  1995  3226.413930              NaN\n",
      "6863        Zimbabwe  1994  3263.934978              NaN\n",
      "6864        Zimbabwe  1993  3033.504852              NaN\n",
      "6865        Zimbabwe  1992  3054.889178              NaN\n",
      "6866        Zimbabwe  1991  3426.598094              NaN\n",
      "6867        Zimbabwe  1990  3324.348171              NaN\n",
      "\n",
      "     Country or Area  Year     Value  Value Footnotes\n",
      "4485        Zimbabwe  2002  3.994356              NaN\n",
      "4486        Zimbabwe  2001  0.799846              NaN\n",
      "4487        Zimbabwe  2000  0.401434              NaN\n",
      "4488        Zimbabwe  1999  0.161676              NaN\n",
      "4489        Zimbabwe  1998  0.081648              NaN\n",
      "4490        Zimbabwe  1997  0.033080              NaN\n",
      "4491        Zimbabwe  1996  0.016790              NaN\n",
      "4492        Zimbabwe  1995  0.007684              NaN\n",
      "4493        Zimbabwe  1994  0.001739              NaN\n",
      "4494        Zimbabwe  1990  0.000000              NaN\n"
     ]
    }
   ],
   "source": [
    "print(gdp_df.tail(10))\n",
    "print()\n",
    "print(internet_df.tail(10))"
   ]
  },
  {
   "cell_type": "markdown",
   "id": "f38fba0b",
   "metadata": {},
   "source": [
    "Question 10: Drop the value footnotes column from both DataFrames. Check that this worked as expected."
   ]
  },
  {
   "cell_type": "code",
   "execution_count": 85,
   "id": "cc05ab4c",
   "metadata": {},
   "outputs": [],
   "source": [
    "del(gdp_df['Value Footnotes'])\n",
    "del(internet_df['Value Footnotes'])"
   ]
  },
  {
   "cell_type": "code",
   "execution_count": 86,
   "id": "783af713",
   "metadata": {},
   "outputs": [
    {
     "name": "stdout",
     "output_type": "stream",
     "text": [
      "     Country or Area  Year        Value\n",
      "6858        Zimbabwe  1999  3600.849291\n",
      "6859        Zimbabwe  1998  3653.920016\n",
      "6860        Zimbabwe  1997  3580.048793\n",
      "6861        Zimbabwe  1996  3520.430146\n",
      "6862        Zimbabwe  1995  3226.413930\n",
      "6863        Zimbabwe  1994  3263.934978\n",
      "6864        Zimbabwe  1993  3033.504852\n",
      "6865        Zimbabwe  1992  3054.889178\n",
      "6866        Zimbabwe  1991  3426.598094\n",
      "6867        Zimbabwe  1990  3324.348171\n",
      "\n",
      "     Country or Area  Year     Value\n",
      "4485        Zimbabwe  2002  3.994356\n",
      "4486        Zimbabwe  2001  0.799846\n",
      "4487        Zimbabwe  2000  0.401434\n",
      "4488        Zimbabwe  1999  0.161676\n",
      "4489        Zimbabwe  1998  0.081648\n",
      "4490        Zimbabwe  1997  0.033080\n",
      "4491        Zimbabwe  1996  0.016790\n",
      "4492        Zimbabwe  1995  0.007684\n",
      "4493        Zimbabwe  1994  0.001739\n",
      "4494        Zimbabwe  1990  0.000000\n"
     ]
    }
   ],
   "source": [
    "print(gdp_df.tail(10))\n",
    "print()\n",
    "print(internet_df.tail(10))"
   ]
  },
  {
   "cell_type": "markdown",
   "id": "eaaa4e67",
   "metadata": {},
   "source": [
    "Question 11: Change the columns for the GDP Per Capita DataFrame to ‘Country’, ‘Year’, and ‘GDP_Per_Capita’."
   ]
  },
  {
   "cell_type": "code",
   "execution_count": 87,
   "id": "15108a86",
   "metadata": {},
   "outputs": [],
   "source": [
    "gdp_df.columns = ['Country','Year','GDP_Per_Capita']"
   ]
  },
  {
   "cell_type": "code",
   "execution_count": 88,
   "id": "9867239c",
   "metadata": {},
   "outputs": [
    {
     "name": "stdout",
     "output_type": "stream",
     "text": [
      "       Country  Year  GDP_Per_Capita\n",
      "6858  Zimbabwe  1999     3600.849291\n",
      "6859  Zimbabwe  1998     3653.920016\n",
      "6860  Zimbabwe  1997     3580.048793\n",
      "6861  Zimbabwe  1996     3520.430146\n",
      "6862  Zimbabwe  1995     3226.413930\n",
      "6863  Zimbabwe  1994     3263.934978\n",
      "6864  Zimbabwe  1993     3033.504852\n",
      "6865  Zimbabwe  1992     3054.889178\n",
      "6866  Zimbabwe  1991     3426.598094\n",
      "6867  Zimbabwe  1990     3324.348171\n"
     ]
    }
   ],
   "source": [
    "print(gdp_df.tail(10))"
   ]
  },
  {
   "cell_type": "markdown",
   "id": "16d63f9b",
   "metadata": {},
   "source": [
    "Question 12: Change the columns for the Internet Users DataFrame to ‘Country’, ‘Year’, and ‘Internet_Users_Pct’."
   ]
  },
  {
   "cell_type": "code",
   "execution_count": 89,
   "id": "bc4f887f",
   "metadata": {},
   "outputs": [],
   "source": [
    "internet_df.columns = ['Country','Year','internet_Users_Pct']"
   ]
  },
  {
   "cell_type": "code",
   "execution_count": 90,
   "id": "cd4fd2f2",
   "metadata": {},
   "outputs": [
    {
     "name": "stdout",
     "output_type": "stream",
     "text": [
      "       Country  Year  internet_Users_Pct\n",
      "4485  Zimbabwe  2002            3.994356\n",
      "4486  Zimbabwe  2001            0.799846\n",
      "4487  Zimbabwe  2000            0.401434\n",
      "4488  Zimbabwe  1999            0.161676\n",
      "4489  Zimbabwe  1998            0.081648\n",
      "4490  Zimbabwe  1997            0.033080\n",
      "4491  Zimbabwe  1996            0.016790\n",
      "4492  Zimbabwe  1995            0.007684\n",
      "4493  Zimbabwe  1994            0.001739\n",
      "4494  Zimbabwe  1990            0.000000\n"
     ]
    }
   ],
   "source": [
    "print(internet_df.tail(10))"
   ]
  },
  {
   "cell_type": "markdown",
   "id": "92c9b580",
   "metadata": {},
   "source": [
    "Question 13: Merge the two DataFrames to one. Merge all rows from each of the two DataFrames. Call the new DataFrame gdp_and_internet_use."
   ]
  },
  {
   "cell_type": "code",
   "execution_count": 91,
   "id": "3b406b02",
   "metadata": {},
   "outputs": [],
   "source": [
    "gdp_and_internet_use = pd.merge(gdp_df, internet_df, how = 'outer', on = ['Country', 'Year'])"
   ]
  },
  {
   "cell_type": "markdown",
   "id": "6d0739d8",
   "metadata": {},
   "source": [
    "Question 14: Look at the first five rows of your new DataFrame to confirm it merged correctly."
   ]
  },
  {
   "cell_type": "code",
   "execution_count": 92,
   "id": "b366ffe5",
   "metadata": {},
   "outputs": [
    {
     "name": "stdout",
     "output_type": "stream",
     "text": [
      "       Country  Year  GDP_Per_Capita  internet_Users_Pct\n",
      "0  Afghanistan  2019     2065.036398                 NaN\n",
      "1  Afghanistan  2018     2033.779002                 NaN\n",
      "2  Afghanistan  2017     2058.383832                 NaN\n",
      "3  Afghanistan  2016     2057.062164                 NaN\n",
      "4  Afghanistan  2015     2068.265904                 NaN\n"
     ]
    }
   ],
   "source": [
    "print(gdp_and_internet_use.head())"
   ]
  },
  {
   "cell_type": "markdown",
   "id": "6b71889d",
   "metadata": {},
   "source": [
    "Question 15: Look at the last five rows to make sure the data is clean and as expected."
   ]
  },
  {
   "cell_type": "code",
   "execution_count": 93,
   "id": "ceaca677",
   "metadata": {},
   "outputs": [
    {
     "name": "stdout",
     "output_type": "stream",
     "text": [
      "     Country  Year  GDP_Per_Capita  internet_Users_Pct\n",
      "7900   Yemen  1999             NaN            0.056629\n",
      "7901   Yemen  1998             NaN            0.023323\n",
      "7902   Yemen  1997             NaN            0.015025\n",
      "7903   Yemen  1996             NaN            0.000621\n",
      "7904   Yemen  1990             NaN            0.000000\n"
     ]
    }
   ],
   "source": [
    "print(gdp_and_internet_use.tail())"
   ]
  },
  {
   "cell_type": "markdown",
   "id": "5b5c0818",
   "metadata": {},
   "source": [
    "Question 16: Subset the combined DataFrame to keep only the data for 2004, 2009, and 2014. Check that this happened correctly."
   ]
  },
  {
   "cell_type": "code",
   "execution_count": 94,
   "id": "2f98f5ca",
   "metadata": {},
   "outputs": [
    {
     "data": {
      "text/html": [
       "<div>\n",
       "<style scoped>\n",
       "    .dataframe tbody tr th:only-of-type {\n",
       "        vertical-align: middle;\n",
       "    }\n",
       "\n",
       "    .dataframe tbody tr th {\n",
       "        vertical-align: top;\n",
       "    }\n",
       "\n",
       "    .dataframe thead th {\n",
       "        text-align: right;\n",
       "    }\n",
       "</style>\n",
       "<table border=\"1\" class=\"dataframe\">\n",
       "  <thead>\n",
       "    <tr style=\"text-align: right;\">\n",
       "      <th></th>\n",
       "      <th>Country</th>\n",
       "      <th>Year</th>\n",
       "      <th>GDP_Per_Capita</th>\n",
       "      <th>internet_Users_Pct</th>\n",
       "    </tr>\n",
       "  </thead>\n",
       "  <tbody>\n",
       "    <tr>\n",
       "      <th>5</th>\n",
       "      <td>Afghanistan</td>\n",
       "      <td>2014</td>\n",
       "      <td>2102.385234</td>\n",
       "      <td>6.390000</td>\n",
       "    </tr>\n",
       "    <tr>\n",
       "      <th>10</th>\n",
       "      <td>Afghanistan</td>\n",
       "      <td>2009</td>\n",
       "      <td>1758.904043</td>\n",
       "      <td>3.550000</td>\n",
       "    </tr>\n",
       "    <tr>\n",
       "      <th>15</th>\n",
       "      <td>Afghanistan</td>\n",
       "      <td>2004</td>\n",
       "      <td>1200.278256</td>\n",
       "      <td>0.105809</td>\n",
       "    </tr>\n",
       "    <tr>\n",
       "      <th>23</th>\n",
       "      <td>Albania</td>\n",
       "      <td>2014</td>\n",
       "      <td>11623.866679</td>\n",
       "      <td>60.100000</td>\n",
       "    </tr>\n",
       "    <tr>\n",
       "      <th>28</th>\n",
       "      <td>Albania</td>\n",
       "      <td>2009</td>\n",
       "      <td>10346.864199</td>\n",
       "      <td>41.200000</td>\n",
       "    </tr>\n",
       "  </tbody>\n",
       "</table>\n",
       "</div>"
      ],
      "text/plain": [
       "        Country  Year  GDP_Per_Capita  internet_Users_Pct\n",
       "5   Afghanistan  2014     2102.385234            6.390000\n",
       "10  Afghanistan  2009     1758.904043            3.550000\n",
       "15  Afghanistan  2004     1200.278256            0.105809\n",
       "23      Albania  2014    11623.866679           60.100000\n",
       "28      Albania  2009    10346.864199           41.200000"
      ]
     },
     "execution_count": 94,
     "metadata": {},
     "output_type": "execute_result"
    }
   ],
   "source": [
    "df2 = gdp_and_internet_use[gdp_and_internet_use['Year'].isin([2004,2009,2014])]\n",
    "df2.head()"
   ]
  },
  {
   "cell_type": "markdown",
   "id": "efd6976c",
   "metadata": {},
   "source": [
    "Question 17: Create three new DataFrames, one for 2004, one for 2009, and one for 2014. Give them meaningful names that aren't too long"
   ]
  },
  {
   "cell_type": "code",
   "execution_count": 95,
   "id": "52b6b238",
   "metadata": {},
   "outputs": [
    {
     "data": {
      "text/html": [
       "<div>\n",
       "<style scoped>\n",
       "    .dataframe tbody tr th:only-of-type {\n",
       "        vertical-align: middle;\n",
       "    }\n",
       "\n",
       "    .dataframe tbody tr th {\n",
       "        vertical-align: top;\n",
       "    }\n",
       "\n",
       "    .dataframe thead th {\n",
       "        text-align: right;\n",
       "    }\n",
       "</style>\n",
       "<table border=\"1\" class=\"dataframe\">\n",
       "  <thead>\n",
       "    <tr style=\"text-align: right;\">\n",
       "      <th></th>\n",
       "      <th>Country</th>\n",
       "      <th>Year</th>\n",
       "      <th>GDP_Per_Capita</th>\n",
       "      <th>internet_Users_Pct</th>\n",
       "    </tr>\n",
       "  </thead>\n",
       "  <tbody>\n",
       "    <tr>\n",
       "      <th>15</th>\n",
       "      <td>Afghanistan</td>\n",
       "      <td>2004</td>\n",
       "      <td>1200.278256</td>\n",
       "      <td>0.105809</td>\n",
       "    </tr>\n",
       "    <tr>\n",
       "      <th>33</th>\n",
       "      <td>Albania</td>\n",
       "      <td>2004</td>\n",
       "      <td>7604.838002</td>\n",
       "      <td>2.420388</td>\n",
       "    </tr>\n",
       "    <tr>\n",
       "      <th>63</th>\n",
       "      <td>Algeria</td>\n",
       "      <td>2004</td>\n",
       "      <td>10058.435939</td>\n",
       "      <td>4.634475</td>\n",
       "    </tr>\n",
       "    <tr>\n",
       "      <th>93</th>\n",
       "      <td>Angola</td>\n",
       "      <td>2004</td>\n",
       "      <td>5593.241537</td>\n",
       "      <td>0.464815</td>\n",
       "    </tr>\n",
       "    <tr>\n",
       "      <th>123</th>\n",
       "      <td>Antigua and Barbuda</td>\n",
       "      <td>2004</td>\n",
       "      <td>18745.681534</td>\n",
       "      <td>24.266544</td>\n",
       "    </tr>\n",
       "  </tbody>\n",
       "</table>\n",
       "</div>"
      ],
      "text/plain": [
       "                 Country  Year  GDP_Per_Capita  internet_Users_Pct\n",
       "15           Afghanistan  2004     1200.278256            0.105809\n",
       "33               Albania  2004     7604.838002            2.420388\n",
       "63               Algeria  2004    10058.435939            4.634475\n",
       "93                Angola  2004     5593.241537            0.464815\n",
       "123  Antigua and Barbuda  2004    18745.681534           24.266544"
      ]
     },
     "execution_count": 95,
     "metadata": {},
     "output_type": "execute_result"
    }
   ],
   "source": [
    "df04 = gdp_and_internet_use[gdp_and_internet_use['Year'] == 2004]\n",
    "df04.head()"
   ]
  },
  {
   "cell_type": "code",
   "execution_count": 96,
   "id": "fee25c52",
   "metadata": {},
   "outputs": [
    {
     "data": {
      "text/html": [
       "<div>\n",
       "<style scoped>\n",
       "    .dataframe tbody tr th:only-of-type {\n",
       "        vertical-align: middle;\n",
       "    }\n",
       "\n",
       "    .dataframe tbody tr th {\n",
       "        vertical-align: top;\n",
       "    }\n",
       "\n",
       "    .dataframe thead th {\n",
       "        text-align: right;\n",
       "    }\n",
       "</style>\n",
       "<table border=\"1\" class=\"dataframe\">\n",
       "  <thead>\n",
       "    <tr style=\"text-align: right;\">\n",
       "      <th></th>\n",
       "      <th>Country</th>\n",
       "      <th>Year</th>\n",
       "      <th>GDP_Per_Capita</th>\n",
       "      <th>internet_Users_Pct</th>\n",
       "    </tr>\n",
       "  </thead>\n",
       "  <tbody>\n",
       "    <tr>\n",
       "      <th>10</th>\n",
       "      <td>Afghanistan</td>\n",
       "      <td>2009</td>\n",
       "      <td>1758.904043</td>\n",
       "      <td>3.55</td>\n",
       "    </tr>\n",
       "    <tr>\n",
       "      <th>28</th>\n",
       "      <td>Albania</td>\n",
       "      <td>2009</td>\n",
       "      <td>10346.864199</td>\n",
       "      <td>41.20</td>\n",
       "    </tr>\n",
       "    <tr>\n",
       "      <th>58</th>\n",
       "      <td>Algeria</td>\n",
       "      <td>2009</td>\n",
       "      <td>10782.361398</td>\n",
       "      <td>11.23</td>\n",
       "    </tr>\n",
       "    <tr>\n",
       "      <th>88</th>\n",
       "      <td>Angola</td>\n",
       "      <td>2009</td>\n",
       "      <td>7643.493749</td>\n",
       "      <td>6.00</td>\n",
       "    </tr>\n",
       "    <tr>\n",
       "      <th>118</th>\n",
       "      <td>Antigua and Barbuda</td>\n",
       "      <td>2009</td>\n",
       "      <td>20046.839017</td>\n",
       "      <td>42.00</td>\n",
       "    </tr>\n",
       "  </tbody>\n",
       "</table>\n",
       "</div>"
      ],
      "text/plain": [
       "                 Country  Year  GDP_Per_Capita  internet_Users_Pct\n",
       "10           Afghanistan  2009     1758.904043                3.55\n",
       "28               Albania  2009    10346.864199               41.20\n",
       "58               Algeria  2009    10782.361398               11.23\n",
       "88                Angola  2009     7643.493749                6.00\n",
       "118  Antigua and Barbuda  2009    20046.839017               42.00"
      ]
     },
     "execution_count": 96,
     "metadata": {},
     "output_type": "execute_result"
    }
   ],
   "source": [
    "df09 = gdp_and_internet_use[gdp_and_internet_use['Year'] == 2009]\n",
    "df09.head()"
   ]
  },
  {
   "cell_type": "code",
   "execution_count": 97,
   "id": "4d115f38",
   "metadata": {},
   "outputs": [
    {
     "data": {
      "text/html": [
       "<div>\n",
       "<style scoped>\n",
       "    .dataframe tbody tr th:only-of-type {\n",
       "        vertical-align: middle;\n",
       "    }\n",
       "\n",
       "    .dataframe tbody tr th {\n",
       "        vertical-align: top;\n",
       "    }\n",
       "\n",
       "    .dataframe thead th {\n",
       "        text-align: right;\n",
       "    }\n",
       "</style>\n",
       "<table border=\"1\" class=\"dataframe\">\n",
       "  <thead>\n",
       "    <tr style=\"text-align: right;\">\n",
       "      <th></th>\n",
       "      <th>Country</th>\n",
       "      <th>Year</th>\n",
       "      <th>GDP_Per_Capita</th>\n",
       "      <th>internet_Users_Pct</th>\n",
       "    </tr>\n",
       "  </thead>\n",
       "  <tbody>\n",
       "    <tr>\n",
       "      <th>5</th>\n",
       "      <td>Afghanistan</td>\n",
       "      <td>2014</td>\n",
       "      <td>2102.385234</td>\n",
       "      <td>6.39</td>\n",
       "    </tr>\n",
       "    <tr>\n",
       "      <th>23</th>\n",
       "      <td>Albania</td>\n",
       "      <td>2014</td>\n",
       "      <td>11623.866679</td>\n",
       "      <td>60.10</td>\n",
       "    </tr>\n",
       "    <tr>\n",
       "      <th>53</th>\n",
       "      <td>Algeria</td>\n",
       "      <td>2014</td>\n",
       "      <td>11512.705405</td>\n",
       "      <td>18.09</td>\n",
       "    </tr>\n",
       "    <tr>\n",
       "      <th>83</th>\n",
       "      <td>Angola</td>\n",
       "      <td>2014</td>\n",
       "      <td>8239.828837</td>\n",
       "      <td>21.26</td>\n",
       "    </tr>\n",
       "    <tr>\n",
       "      <th>113</th>\n",
       "      <td>Antigua and Barbuda</td>\n",
       "      <td>2014</td>\n",
       "      <td>18104.241470</td>\n",
       "      <td>64.00</td>\n",
       "    </tr>\n",
       "  </tbody>\n",
       "</table>\n",
       "</div>"
      ],
      "text/plain": [
       "                 Country  Year  GDP_Per_Capita  internet_Users_Pct\n",
       "5            Afghanistan  2014     2102.385234                6.39\n",
       "23               Albania  2014    11623.866679               60.10\n",
       "53               Algeria  2014    11512.705405               18.09\n",
       "83                Angola  2014     8239.828837               21.26\n",
       "113  Antigua and Barbuda  2014    18104.241470               64.00"
      ]
     },
     "execution_count": 97,
     "metadata": {},
     "output_type": "execute_result"
    }
   ],
   "source": [
    "df14 = gdp_and_internet_use[gdp_and_internet_use['Year'] == 2014]\n",
    "df14.head()"
   ]
  },
  {
   "cell_type": "markdown",
   "id": "5378c343",
   "metadata": {},
   "source": [
    "Question 18: Which country had the highest percentage of internet users in 2014? What was the percentage? (Try typing the first 3 letters of your DataFrame name and hitting the tab key for auto-complete options)."
   ]
  },
  {
   "cell_type": "code",
   "execution_count": 98,
   "id": "8aaf0cea",
   "metadata": {},
   "outputs": [
    {
     "name": "stdout",
     "output_type": "stream",
     "text": [
      "98.16\n"
     ]
    }
   ],
   "source": [
    "print(df14['internet_Users_Pct'].max())"
   ]
  },
  {
   "cell_type": "code",
   "execution_count": 99,
   "id": "369e216f",
   "metadata": {},
   "outputs": [
    {
     "name": "stdout",
     "output_type": "stream",
     "text": [
      "      Country  Year  GDP_Per_Capita  internet_Users_Pct\n",
      "2625  Iceland  2014      49652.1495               98.16\n"
     ]
    }
   ],
   "source": [
    "print(df14[df14['internet_Users_Pct'] == 98.16])"
   ]
  },
  {
   "cell_type": "markdown",
   "id": "90069288",
   "metadata": {},
   "source": [
    "Question 19: Which country had the lowest percentage of internet users in 2014? What was the percentage?"
   ]
  },
  {
   "cell_type": "code",
   "execution_count": 100,
   "id": "0916a66a",
   "metadata": {},
   "outputs": [
    {
     "name": "stdout",
     "output_type": "stream",
     "text": [
      "0.0\n"
     ]
    }
   ],
   "source": [
    "print(df14['internet_Users_Pct'].min())"
   ]
  },
  {
   "cell_type": "code",
   "execution_count": 101,
   "id": "3f08cd2a",
   "metadata": {},
   "outputs": [
    {
     "name": "stdout",
     "output_type": "stream",
     "text": [
      "                          Country  Year  GDP_Per_Capita  internet_Users_Pct\n",
      "7079  Dem. People's Rep. of Korea  2014             NaN                 0.0\n"
     ]
    }
   ],
   "source": [
    "print(df14[df14['internet_Users_Pct'] == 0.0])"
   ]
  },
  {
   "cell_type": "markdown",
   "id": "4e3dad86",
   "metadata": {},
   "source": [
    "Question 20: Repeat for 2004 and 2009."
   ]
  },
  {
   "cell_type": "code",
   "execution_count": 102,
   "id": "d935b6ee",
   "metadata": {},
   "outputs": [
    {
     "name": "stdout",
     "output_type": "stream",
     "text": [
      "83.89\n"
     ]
    }
   ],
   "source": [
    "print(df04['internet_Users_Pct'].max())"
   ]
  },
  {
   "cell_type": "code",
   "execution_count": 103,
   "id": "fcf127a7",
   "metadata": {},
   "outputs": [
    {
     "name": "stdout",
     "output_type": "stream",
     "text": [
      "     Country  Year  GDP_Per_Capita  internet_Users_Pct\n",
      "6019  Sweden  2004    44496.023401               83.89\n"
     ]
    }
   ],
   "source": [
    "print(df04[df04['internet_Users_Pct'] == 83.89])"
   ]
  },
  {
   "cell_type": "code",
   "execution_count": 104,
   "id": "94b9b534",
   "metadata": {},
   "outputs": [
    {
     "name": "stdout",
     "output_type": "stream",
     "text": [
      "0.0\n"
     ]
    }
   ],
   "source": [
    "print(df04['internet_Users_Pct'].min())"
   ]
  },
  {
   "cell_type": "code",
   "execution_count": 105,
   "id": "511836ab",
   "metadata": {},
   "outputs": [
    {
     "name": "stdout",
     "output_type": "stream",
     "text": [
      "                          Country  Year  GDP_Per_Capita  internet_Users_Pct\n",
      "7088  Dem. People's Rep. of Korea  2004             NaN                 0.0\n"
     ]
    }
   ],
   "source": [
    "print(df04[df04['internet_Users_Pct'] == 0.0])"
   ]
  },
  {
   "cell_type": "code",
   "execution_count": 106,
   "id": "09bdebf0",
   "metadata": {},
   "outputs": [
    {
     "name": "stdout",
     "output_type": "stream",
     "text": [
      "93.0\n"
     ]
    }
   ],
   "source": [
    "print(df09['internet_Users_Pct'].max())"
   ]
  },
  {
   "cell_type": "code",
   "execution_count": 107,
   "id": "659e428a",
   "metadata": {},
   "outputs": [
    {
     "name": "stdout",
     "output_type": "stream",
     "text": [
      "      Country  Year  GDP_Per_Capita  internet_Users_Pct\n",
      "2630  Iceland  2009    48177.084123                93.0\n"
     ]
    }
   ],
   "source": [
    "print(df09[df09['internet_Users_Pct'] == 93.0])"
   ]
  },
  {
   "cell_type": "code",
   "execution_count": 108,
   "id": "850679ae",
   "metadata": {},
   "outputs": [
    {
     "name": "stdout",
     "output_type": "stream",
     "text": [
      "0.0\n"
     ]
    }
   ],
   "source": [
    "print(df09['internet_Users_Pct'].min())"
   ]
  },
  {
   "cell_type": "code",
   "execution_count": 109,
   "id": "1998699b",
   "metadata": {},
   "outputs": [
    {
     "name": "stdout",
     "output_type": "stream",
     "text": [
      "                          Country  Year  GDP_Per_Capita  internet_Users_Pct\n",
      "7083  Dem. People's Rep. of Korea  2009             NaN                 0.0\n"
     ]
    }
   ],
   "source": [
    "print(df09[df09['internet_Users_Pct'] == 0.0])"
   ]
  },
  {
   "cell_type": "markdown",
   "id": "42a20f6f",
   "metadata": {},
   "source": [
    "Question 21: Which country had the highest gdp per capita in 2014? What was the gdp per capita? "
   ]
  },
  {
   "cell_type": "code",
   "execution_count": 110,
   "id": "01761c32",
   "metadata": {},
   "outputs": [
    {
     "name": "stdout",
     "output_type": "stream",
     "text": [
      "156514.133849784\n"
     ]
    }
   ],
   "source": [
    "maxgdp14 = df14['GDP_Per_Capita'].max()\n",
    "print(maxgdp14)"
   ]
  },
  {
   "cell_type": "code",
   "execution_count": 111,
   "id": "138c55f4",
   "metadata": {},
   "outputs": [
    {
     "name": "stdout",
     "output_type": "stream",
     "text": [
      "               Country  Year  GDP_Per_Capita  internet_Users_Pct\n",
      "3721  Macao SAR, China  2014    156514.13385                 NaN\n"
     ]
    }
   ],
   "source": [
    "print(df14[df14['GDP_Per_Capita'] == maxgdp14])"
   ]
  },
  {
   "cell_type": "markdown",
   "id": "948eb5eb",
   "metadata": {},
   "source": [
    "Question 22: Which country had the lowest gdp per capita in 2014? What was the gdp per capita?"
   ]
  },
  {
   "cell_type": "code",
   "execution_count": 112,
   "id": "b1486487",
   "metadata": {},
   "outputs": [
    {
     "name": "stdout",
     "output_type": "stream",
     "text": [
      "822.610457816902\n"
     ]
    }
   ],
   "source": [
    "mingdp14 = df14['GDP_Per_Capita'].min()\n",
    "print(mingdp14)"
   ]
  },
  {
   "cell_type": "code",
   "execution_count": 113,
   "id": "1ac270f7",
   "metadata": {},
   "outputs": [
    {
     "name": "stdout",
     "output_type": "stream",
     "text": [
      "                       Country  Year  GDP_Per_Capita  internet_Users_Pct\n",
      "1047  Central African Republic  2014      822.610458                 NaN\n"
     ]
    }
   ],
   "source": [
    "print(df14[df14['GDP_Per_Capita'] == mingdp14])"
   ]
  },
  {
   "cell_type": "markdown",
   "id": "39e3a048",
   "metadata": {},
   "source": [
    "Question 23: Create some scatterplots:\n",
    "a. 2004 Percent Using the Internet vs GDP Per Capita"
   ]
  },
  {
   "cell_type": "code",
   "execution_count": 114,
   "id": "6aa364a0",
   "metadata": {},
   "outputs": [
    {
     "data": {
      "image/png": "[encoded data removed]",
      "text/plain": [
       "<Figure size 432x288 with 1 Axes>"
      ]
     },
     "metadata": {
      "needs_background": "light"
     },
     "output_type": "display_data"
    }
   ],
   "source": [
    "plt.scatter(df04.internet_Users_Pct, df04.GDP_Per_Capita)\n",
    "plt.xlabel('internet_Users_Pct')\n",
    "plt.ylabel('GDP_Per_Capita')\n",
    "plt.title('GDP Per capita vs Internet Users Pct in 2004')\n",
    "plt.show()"
   ]
  },
  {
   "cell_type": "markdown",
   "id": "7124b0cb",
   "metadata": {},
   "source": [
    "Question 23: Create some scatterplots: b. 2009 Percent Using the Internet vs GDP Per Capita"
   ]
  },
  {
   "cell_type": "code",
   "execution_count": 115,
   "id": "731adc51",
   "metadata": {},
   "outputs": [
    {
     "data": {
      "image/png": "[encoded data removed]",
      "text/plain": [
       "<Figure size 432x288 with 1 Axes>"
      ]
     },
     "metadata": {
      "needs_background": "light"
     },
     "output_type": "display_data"
    }
   ],
   "source": [
    "plt.scatter(df09.internet_Users_Pct, df09.GDP_Per_Capita)\n",
    "plt.xlabel('internet_Users_Pct')\n",
    "plt.ylabel('GDP_Per_Capita')\n",
    "plt.title('GDP Per capita vs Internet Users Pct in 2009')\n",
    "plt.show()"
   ]
  },
  {
   "cell_type": "markdown",
   "id": "759becbc",
   "metadata": {},
   "source": [
    "Question 23: Create some scatterplots: c. 2014 Percent Using the Internet vs GDP Per Capita"
   ]
  },
  {
   "cell_type": "code",
   "execution_count": 116,
   "id": "c85551a8",
   "metadata": {},
   "outputs": [
    {
     "data": {
      "image/png": "[encoded data removed]",
      "text/plain": [
       "<Figure size 432x288 with 1 Axes>"
      ]
     },
     "metadata": {
      "needs_background": "light"
     },
     "output_type": "display_data"
    }
   ],
   "source": [
    "plt.scatter(df14.internet_Users_Pct, df14.GDP_Per_Capita)\n",
    "plt.xlabel('internet_Users_Pct')\n",
    "plt.ylabel('GDP_Per_Capita')\n",
    "plt.title('GDP Per capita vs Internet Users Pct in 2014')\n",
    "plt.show()"
   ]
  },
  {
   "cell_type": "markdown",
   "id": "d4fde874",
   "metadata": {},
   "source": [
    "Question 24: Are there differences across years? What do the plots tell you about any relationship between these two variables? Enter your observations as a markdown cell."
   ]
  },
  {
   "cell_type": "markdown",
   "id": "774c59eb",
   "metadata": {},
   "source": [
    "As GDP increases, so does internet usage.\n",
    "The trend line for the above observation has become more uniform as the years have progressed."
   ]
  },
  {
   "cell_type": "markdown",
   "id": "fa9afe07",
   "metadata": {},
   "source": [
    "Question 25: Look at the distribution of gdp per capita values for 2014. Is it unimodal?"
   ]
  },
  {
   "cell_type": "code",
   "execution_count": 117,
   "id": "bf719930",
   "metadata": {},
   "outputs": [
    {
     "data": {
      "image/png": "[encoded data removed]",
      "text/plain": [
       "<Figure size 432x288 with 1 Axes>"
      ]
     },
     "metadata": {
      "needs_background": "light"
     },
     "output_type": "display_data"
    }
   ],
   "source": [
    "plt.hist(df14.GDP_Per_Capita)\n",
    "plt.xlabel('GDP_Per_Capita')\n",
    "plt.ylabel('Number of Countries')\n",
    "plt.title('GDP Per Capita 2014')\n",
    "plt.show()"
   ]
  },
  {
   "cell_type": "markdown",
   "id": "43ad4fbc",
   "metadata": {},
   "source": [
    "Yes, appears right skewed.  There is clearly one definitive peak which is defined as a unimodal distribution."
   ]
  },
  {
   "cell_type": "markdown",
   "id": "e633896f",
   "metadata": {},
   "source": [
    "Question 26: Look at the distribution of Internet Use for 2014. Is it unimodal?"
   ]
  },
  {
   "cell_type": "code",
   "execution_count": 118,
   "id": "4a849478",
   "metadata": {},
   "outputs": [
    {
     "data": {
      "image/png": "[encoded data removed]",
      "text/plain": [
       "<Figure size 432x288 with 1 Axes>"
      ]
     },
     "metadata": {
      "needs_background": "light"
     },
     "output_type": "display_data"
    }
   ],
   "source": [
    "plt.hist(df14.internet_Users_Pct)\n",
    "plt.xlabel('internet_Users_Pct')\n",
    "plt.ylabel('Number of Countries')\n",
    "plt.title('Internet Users Percentage 2014')\n",
    "plt.show()"
   ]
  },
  {
   "cell_type": "markdown",
   "id": "5c978050",
   "metadata": {},
   "source": [
    "No, there is more than one 'peak'.  One at 0-20% and one at 40-50%.  Therefore this would be considered a bimodal distribution."
   ]
  },
  {
   "cell_type": "markdown",
   "id": "6cd148dc",
   "metadata": {},
   "source": [
    "Question 27: What are the top 5 countries in terms of internet use in 2014?"
   ]
  },
  {
   "cell_type": "code",
   "execution_count": 119,
   "id": "b14d8a6a",
   "metadata": {},
   "outputs": [
    {
     "name": "stdout",
     "output_type": "stream",
     "text": [
      "      Country  Year  GDP_Per_Capita  internet_Users_Pct\n",
      "2625  Iceland  2014    49652.149500               98.16\n",
      "561   Bermuda  2014    77361.104881               96.80\n",
      "4648   Norway  2014    62589.373548               96.30\n",
      "1452  Denmark  2014    52214.537753               95.99\n",
      "6871  Andorra  2014             NaN               95.90\n"
     ]
    }
   ],
   "source": [
    "top5 = df14.nlargest(5, 'internet_Users_Pct')\n",
    "print(top5)"
   ]
  },
  {
   "cell_type": "markdown",
   "id": "8cb998d6",
   "metadata": {},
   "source": [
    "Question 28: Create a DataFrame called top_5_internet from the combined DataFrame that has all three years for the 5 countries that had the greatest 2014 internet usage. You should have 15 rows. Check that this is true."
   ]
  },
  {
   "cell_type": "code",
   "execution_count": 120,
   "id": "bebd2c81",
   "metadata": {},
   "outputs": [
    {
     "name": "stdout",
     "output_type": "stream",
     "text": [
      "      Country  Year  GDP_Per_Capita  internet_Users_Pct\n",
      "561   Bermuda  2014    77361.104881           96.800000\n",
      "566   Bermuda  2009    89961.982744           83.250000\n",
      "571   Bermuda  2004    90195.811033           60.990867\n",
      "1452  Denmark  2014    52214.537753           95.990000\n",
      "1457  Denmark  2009    50274.075696           86.840000\n",
      "1462  Denmark  2004    50607.628971           80.930000\n",
      "2625  Iceland  2014    49652.149500           98.160000\n",
      "2630  Iceland  2009    48177.084123           93.000000\n",
      "2635  Iceland  2004    45145.545658           83.880000\n",
      "4648   Norway  2014    62589.373548           96.300000\n",
      "4653   Norway  2009    61886.564498           92.080000\n",
      "4658   Norway  2004    60893.410993           77.690000\n",
      "6871  Andorra  2014             NaN           95.900000\n",
      "6876  Andorra  2009             NaN           78.530000\n",
      "6881  Andorra  2004             NaN           26.837954\n"
     ]
    }
   ],
   "source": [
    "top_5_internet = df2[df2['Country'].isin(top5['Country'])]\n",
    "print(top_5_internet)"
   ]
  },
  {
   "cell_type": "markdown",
   "id": "485f2d97",
   "metadata": {},
   "source": [
    "Question 29: Create a seaborn FacetGrid to show the internet usage trend across the years 2004, 2009, and 2014 for these 5 countries (those with the highest reported internet use in 2014). Which country had the greatest growth between 2004 and 2014?"
   ]
  },
  {
   "cell_type": "code",
   "execution_count": 121,
   "id": "7f5c1a1d",
   "metadata": {},
   "outputs": [
    {
     "data": {
      "text/plain": [
       "<seaborn.axisgrid.FacetGrid at 0x28489d53c10>"
      ]
     },
     "execution_count": 121,
     "metadata": {},
     "output_type": "execute_result"
    },
    {
     "data": {
      "image/png": "[encoded data removed]",
      "text/plain": [
       "<Figure size 1080x216 with 5 Axes>"
      ]
     },
     "metadata": {
      "needs_background": "light"
     },
     "output_type": "display_data"
    }
   ],
   "source": [
    "g = sns.FacetGrid(top_5_internet, col = 'Country')\n",
    "g.map_dataframe(sns.lineplot, x= 'Year', y = 'internet_Users_Pct')"
   ]
  },
  {
   "cell_type": "markdown",
   "id": "40c667b1",
   "metadata": {},
   "source": [
    "Andorra"
   ]
  },
  {
   "cell_type": "markdown",
   "id": "4e351d96",
   "metadata": {},
   "source": [
    "Question 30: Repeat the steps above to look at the trend for the 5 countries with the lowest 2014 internet usage. Which country has consistently had the least internet use?"
   ]
  },
  {
   "cell_type": "code",
   "execution_count": 122,
   "id": "f27c8153",
   "metadata": {},
   "outputs": [
    {
     "name": "stdout",
     "output_type": "stream",
     "text": [
      "                          Country  Year  GDP_Per_Capita  internet_Users_Pct\n",
      "7079  Dem. People's Rep. of Korea  2014             NaN                0.00\n",
      "7137                      Eritrea  2014             NaN                0.99\n",
      "6219                  Timor-Leste  2014     3264.568070                1.14\n",
      "827                       Burundi  2014      886.235777                1.38\n",
      "7674                      Somalia  2014             NaN                1.63\n"
     ]
    }
   ],
   "source": [
    "bottom5 = df14.nsmallest(5, 'internet_Users_Pct')\n",
    "print(bottom5)"
   ]
  },
  {
   "cell_type": "code",
   "execution_count": 123,
   "id": "fabc65b0",
   "metadata": {},
   "outputs": [
    {
     "name": "stdout",
     "output_type": "stream",
     "text": [
      "                          Country  Year  GDP_Per_Capita  internet_Users_Pct\n",
      "827                       Burundi  2014      886.235777            1.380000\n",
      "832                       Burundi  2009      831.564131            0.900000\n",
      "837                       Burundi  2004      817.460585            0.349060\n",
      "6219                  Timor-Leste  2014     3264.568070            1.140000\n",
      "6224                  Timor-Leste  2009     2724.770973            0.185252\n",
      "6229                  Timor-Leste  2004     2258.608056                 NaN\n",
      "7079  Dem. People's Rep. of Korea  2014             NaN            0.000000\n",
      "7083  Dem. People's Rep. of Korea  2009             NaN            0.000000\n",
      "7088  Dem. People's Rep. of Korea  2004             NaN            0.000000\n",
      "7137                      Eritrea  2014             NaN            0.990000\n",
      "7142                      Eritrea  2009             NaN            0.540000\n",
      "7674                      Somalia  2014             NaN            1.630000\n",
      "7678                      Somalia  2009             NaN            1.160611\n",
      "7683                      Somalia  2004             NaN            1.053455\n"
     ]
    }
   ],
   "source": [
    "bottom_5_internet = df2[df2['Country'].isin(bottom5['Country'])]\n",
    "print(bottom_5_internet)"
   ]
  },
  {
   "cell_type": "code",
   "execution_count": 124,
   "id": "f217a0fb",
   "metadata": {},
   "outputs": [
    {
     "data": {
      "text/plain": [
       "<seaborn.axisgrid.FacetGrid at 0x284830efa00>"
      ]
     },
     "execution_count": 124,
     "metadata": {},
     "output_type": "execute_result"
    },
    {
     "data": {
      "image/png": "[encoded data removed]",
      "text/plain": [
       "<Figure size 1080x216 with 5 Axes>"
      ]
     },
     "metadata": {
      "needs_background": "light"
     },
     "output_type": "display_data"
    }
   ],
   "source": [
    "h = sns.FacetGrid(bottom_5_internet, col = 'Country')\n",
    "h.map_dataframe(sns.lineplot, x= 'Year', y = 'internet_Users_Pct')"
   ]
  },
  {
   "cell_type": "markdown",
   "id": "9c34b67c",
   "metadata": {},
   "source": [
    "Dem. People's Republic of Korea"
   ]
  },
  {
   "cell_type": "markdown",
   "id": "dae38ead",
   "metadata": {},
   "source": [
    "Question 31: Find the top 5 countries for 2014 in terms of GDP per capita; create a DataFrame to look at 10-year trends (use 2004, 2009, 2014 to look at the 10-year trend) in gdp per capita for the 5 countries with the highest 2014 GDP per capita. Use a seaborn facet grid for this."
   ]
  },
  {
   "cell_type": "code",
   "execution_count": 125,
   "id": "9611d0b3",
   "metadata": {},
   "outputs": [
    {
     "name": "stdout",
     "output_type": "stream",
     "text": [
      "               Country  Year  GDP_Per_Capita  internet_Users_Pct\n",
      "3721  Macao SAR, China  2014   156514.133850                 NaN\n",
      "3691        Luxembourg  2014   108760.916030               94.67\n",
      "5138             Qatar  2014    95578.416973               91.49\n",
      "5464         Singapore  2014    87808.663157               82.00\n",
      "561            Bermuda  2014    77361.104881               96.80\n"
     ]
    }
   ],
   "source": [
    "top5GDP = df14.nlargest(5, 'GDP_Per_Capita')\n",
    "print(top5GDP)"
   ]
  },
  {
   "cell_type": "code",
   "execution_count": 126,
   "id": "6514d6a4",
   "metadata": {},
   "outputs": [
    {
     "name": "stdout",
     "output_type": "stream",
     "text": [
      "               Country  Year  GDP_Per_Capita  internet_Users_Pct\n",
      "561            Bermuda  2014    77361.104881           96.800000\n",
      "566            Bermuda  2009    89961.982744           83.250000\n",
      "571            Bermuda  2004    90195.811033           60.990867\n",
      "3691        Luxembourg  2014   108760.916030           94.670000\n",
      "3696        Luxembourg  2009   104932.811953           87.310000\n",
      "3701        Luxembourg  2004   102708.212547           65.880000\n",
      "3721  Macao SAR, China  2014   156514.133850                 NaN\n",
      "3726  Macao SAR, China  2009    95939.340822                 NaN\n",
      "3731  Macao SAR, China  2004    72944.409424                 NaN\n",
      "5138             Qatar  2014    95578.416973           91.490000\n",
      "5143             Qatar  2009    89954.519993           53.100000\n",
      "5148             Qatar  2004    93748.301216           20.701648\n",
      "5464         Singapore  2014    87808.663157           82.000000\n",
      "5469         Singapore  2009    69466.581746           69.000000\n",
      "5474         Singapore  2004    63901.716368           62.000000\n"
     ]
    }
   ],
   "source": [
    "top_5_GDP = df2[df2['Country'].isin(top5GDP['Country'])]\n",
    "print(top_5_GDP)"
   ]
  },
  {
   "cell_type": "code",
   "execution_count": 127,
   "id": "3244d46d",
   "metadata": {},
   "outputs": [
    {
     "data": {
      "text/plain": [
       "<seaborn.axisgrid.FacetGrid at 0x2848a1c48b0>"
      ]
     },
     "execution_count": 127,
     "metadata": {},
     "output_type": "execute_result"
    },
    {
     "data": {
      "image/png": "[encoded data removed]",
      "text/plain": [
       "<Figure size 1080x216 with 5 Axes>"
      ]
     },
     "metadata": {
      "needs_background": "light"
     },
     "output_type": "display_data"
    }
   ],
   "source": [
    "i = sns.FacetGrid(top_5_GDP, col = 'Country')\n",
    "i.map_dataframe(sns.lineplot, x= 'Year', y = 'GDP_Per_Capita')"
   ]
  },
  {
   "cell_type": "markdown",
   "id": "db2c72a4",
   "metadata": {},
   "source": [
    "Question 32: Repeat this one more time to look at 10-year trend for the 5 countries for 2014 with the lowest GDP per capita"
   ]
  },
  {
   "cell_type": "code",
   "execution_count": 128,
   "id": "7e5134d1",
   "metadata": {},
   "outputs": [
    {
     "name": "stdout",
     "output_type": "stream",
     "text": [
      "                       Country  Year  GDP_Per_Capita  internet_Users_Pct\n",
      "1047  Central African Republic  2014      822.610458                 NaN\n",
      "827                    Burundi  2014      886.235777                1.38\n",
      "3781                    Malawi  2014     1027.208496                5.83\n",
      "1422           Dem. Rep. Congo  2014     1029.790785                 NaN\n",
      "4528                     Niger  2014     1127.615541                1.95\n"
     ]
    }
   ],
   "source": [
    "bottom5GDP = df14.nsmallest(5, 'GDP_Per_Capita')\n",
    "print(bottom5GDP)"
   ]
  },
  {
   "cell_type": "code",
   "execution_count": 129,
   "id": "7498cfdb",
   "metadata": {},
   "outputs": [
    {
     "name": "stdout",
     "output_type": "stream",
     "text": [
      "                       Country  Year  GDP_Per_Capita  internet_Users_Pct\n",
      "827                    Burundi  2014      886.235777            1.380000\n",
      "832                    Burundi  2009      831.564131            0.900000\n",
      "837                    Burundi  2004      817.460585            0.349060\n",
      "1047  Central African Republic  2014      822.610458                 NaN\n",
      "1052  Central African Republic  2009     1161.189475                 NaN\n",
      "1057  Central African Republic  2004     1037.846766                 NaN\n",
      "1422           Dem. Rep. Congo  2014     1029.790785                 NaN\n",
      "1427           Dem. Rep. Congo  2009      835.611696                 NaN\n",
      "1432           Dem. Rep. Congo  2004      757.685942                 NaN\n",
      "3781                    Malawi  2014     1027.208496            5.830000\n",
      "3786                    Malawi  2009      932.867635            1.070000\n",
      "3791                    Malawi  2004      775.346132            0.347505\n",
      "4528                     Niger  2014     1127.615541            1.950000\n",
      "4533                     Niger  2009      992.409977            0.760000\n",
      "4538                     Niger  2004      929.883920            0.189934\n"
     ]
    }
   ],
   "source": [
    "bottom_5_GDP = df2[df2['Country'].isin(bottom5GDP['Country'])]\n",
    "print(bottom_5_GDP)"
   ]
  },
  {
   "cell_type": "code",
   "execution_count": 130,
   "id": "715186c7",
   "metadata": {},
   "outputs": [
    {
     "data": {
      "text/plain": [
       "<seaborn.axisgrid.FacetGrid at 0x2848a3d93a0>"
      ]
     },
     "execution_count": 130,
     "metadata": {},
     "output_type": "execute_result"
    },
    {
     "data": {
      "image/png": "[encoded data removed]",
      "text/plain": [
       "<Figure size 1080x216 with 5 Axes>"
      ]
     },
     "metadata": {
      "needs_background": "light"
     },
     "output_type": "display_data"
    }
   ],
   "source": [
    "j = sns.FacetGrid(bottom_5_GDP, col = 'Country')\n",
    "j.map_dataframe(sns.lineplot, x= 'Year', y = 'GDP_Per_Capita')"
   ]
  },
  {
   "cell_type": "markdown",
   "id": "1196ac9b",
   "metadata": {},
   "source": [
    "Question 33: Is there anything surprising or unusual in any of these plots? Searching on the internet, can you find any possible explanations for unusual findings?"
   ]
  },
  {
   "cell_type": "markdown",
   "id": "8870f0a3",
   "metadata": {},
   "source": [
    "A coup of president Francois Bozize in March 2013 led to instability and corruption that prevented the CAR from benefiting from their diamond and timber industries which let o an almost 40% drop in GSP per capita."
   ]
  },
  {
   "cell_type": "markdown",
   "id": "ec303918",
   "metadata": {},
   "source": [
    "Bonus: Download another data set from the UN data (http://data.un.org/Explorer.aspx) to merge with your data and explore."
   ]
  },
  {
   "cell_type": "code",
   "execution_count": 131,
   "id": "b3a23a53",
   "metadata": {},
   "outputs": [],
   "source": [
    "life_df = pd.read_csv(\"../Data/life_expectancy.csv\", nrows=1746)"
   ]
  },
  {
   "cell_type": "code",
   "execution_count": 132,
   "id": "b7bc9fc0",
   "metadata": {},
   "outputs": [
    {
     "data": {
      "text/html": [
       "<div>\n",
       "<style scoped>\n",
       "    .dataframe tbody tr th:only-of-type {\n",
       "        vertical-align: middle;\n",
       "    }\n",
       "\n",
       "    .dataframe tbody tr th {\n",
       "        vertical-align: top;\n",
       "    }\n",
       "\n",
       "    .dataframe thead th {\n",
       "        text-align: right;\n",
       "    }\n",
       "</style>\n",
       "<table border=\"1\" class=\"dataframe\">\n",
       "  <thead>\n",
       "    <tr style=\"text-align: right;\">\n",
       "      <th></th>\n",
       "      <th>Country or Area</th>\n",
       "      <th>Year(s)</th>\n",
       "      <th>GENDER</th>\n",
       "      <th>Value</th>\n",
       "      <th>Value Footnotes</th>\n",
       "    </tr>\n",
       "  </thead>\n",
       "  <tbody>\n",
       "    <tr>\n",
       "      <th>0</th>\n",
       "      <td>Afghanistan</td>\n",
       "      <td>2012</td>\n",
       "      <td>Male</td>\n",
       "      <td>58</td>\n",
       "      <td>NaN</td>\n",
       "    </tr>\n",
       "    <tr>\n",
       "      <th>1</th>\n",
       "      <td>Afghanistan</td>\n",
       "      <td>2012</td>\n",
       "      <td>Female</td>\n",
       "      <td>61</td>\n",
       "      <td>NaN</td>\n",
       "    </tr>\n",
       "    <tr>\n",
       "      <th>2</th>\n",
       "      <td>Afghanistan</td>\n",
       "      <td>2012</td>\n",
       "      <td>Both sexes</td>\n",
       "      <td>60</td>\n",
       "      <td>NaN</td>\n",
       "    </tr>\n",
       "    <tr>\n",
       "      <th>3</th>\n",
       "      <td>Afghanistan</td>\n",
       "      <td>2000</td>\n",
       "      <td>Male</td>\n",
       "      <td>54</td>\n",
       "      <td>NaN</td>\n",
       "    </tr>\n",
       "    <tr>\n",
       "      <th>4</th>\n",
       "      <td>Afghanistan</td>\n",
       "      <td>2000</td>\n",
       "      <td>Female</td>\n",
       "      <td>56</td>\n",
       "      <td>NaN</td>\n",
       "    </tr>\n",
       "  </tbody>\n",
       "</table>\n",
       "</div>"
      ],
      "text/plain": [
       "  Country or Area  Year(s)      GENDER  Value  Value Footnotes\n",
       "0     Afghanistan     2012        Male     58              NaN\n",
       "1     Afghanistan     2012      Female     61              NaN\n",
       "2     Afghanistan     2012  Both sexes     60              NaN\n",
       "3     Afghanistan     2000        Male     54              NaN\n",
       "4     Afghanistan     2000      Female     56              NaN"
      ]
     },
     "execution_count": 132,
     "metadata": {},
     "output_type": "execute_result"
    }
   ],
   "source": [
    "life_df.head()"
   ]
  },
  {
   "cell_type": "code",
   "execution_count": 133,
   "id": "3ab24546",
   "metadata": {},
   "outputs": [
    {
     "name": "stdout",
     "output_type": "stream",
     "text": [
      "<class 'pandas.core.frame.DataFrame'>\n",
      "RangeIndex: 1746 entries, 0 to 1745\n",
      "Data columns (total 5 columns):\n",
      " #   Column           Non-Null Count  Dtype  \n",
      "---  ------           --------------  -----  \n",
      " 0   Country or Area  1746 non-null   object \n",
      " 1   Year(s)          1746 non-null   int64  \n",
      " 2   GENDER           1746 non-null   object \n",
      " 3   Value            1746 non-null   int64  \n",
      " 4   Value Footnotes  0 non-null      float64\n",
      "dtypes: float64(1), int64(2), object(2)\n",
      "memory usage: 68.3+ KB\n"
     ]
    }
   ],
   "source": [
    "life_df.info()"
   ]
  },
  {
   "cell_type": "code",
   "execution_count": 134,
   "id": "ce1733c4",
   "metadata": {},
   "outputs": [],
   "source": [
    "del(life_df['Value Footnotes'])"
   ]
  },
  {
   "cell_type": "code",
   "execution_count": 135,
   "id": "89fbdf72",
   "metadata": {},
   "outputs": [
    {
     "data": {
      "text/html": [
       "<div>\n",
       "<style scoped>\n",
       "    .dataframe tbody tr th:only-of-type {\n",
       "        vertical-align: middle;\n",
       "    }\n",
       "\n",
       "    .dataframe tbody tr th {\n",
       "        vertical-align: top;\n",
       "    }\n",
       "\n",
       "    .dataframe thead th {\n",
       "        text-align: right;\n",
       "    }\n",
       "</style>\n",
       "<table border=\"1\" class=\"dataframe\">\n",
       "  <thead>\n",
       "    <tr style=\"text-align: right;\">\n",
       "      <th></th>\n",
       "      <th>Country or Area</th>\n",
       "      <th>Year(s)</th>\n",
       "      <th>GENDER</th>\n",
       "      <th>Value</th>\n",
       "    </tr>\n",
       "  </thead>\n",
       "  <tbody>\n",
       "    <tr>\n",
       "      <th>0</th>\n",
       "      <td>Afghanistan</td>\n",
       "      <td>2012</td>\n",
       "      <td>Male</td>\n",
       "      <td>58</td>\n",
       "    </tr>\n",
       "    <tr>\n",
       "      <th>1</th>\n",
       "      <td>Afghanistan</td>\n",
       "      <td>2012</td>\n",
       "      <td>Female</td>\n",
       "      <td>61</td>\n",
       "    </tr>\n",
       "    <tr>\n",
       "      <th>2</th>\n",
       "      <td>Afghanistan</td>\n",
       "      <td>2012</td>\n",
       "      <td>Both sexes</td>\n",
       "      <td>60</td>\n",
       "    </tr>\n",
       "    <tr>\n",
       "      <th>3</th>\n",
       "      <td>Afghanistan</td>\n",
       "      <td>2000</td>\n",
       "      <td>Male</td>\n",
       "      <td>54</td>\n",
       "    </tr>\n",
       "    <tr>\n",
       "      <th>4</th>\n",
       "      <td>Afghanistan</td>\n",
       "      <td>2000</td>\n",
       "      <td>Female</td>\n",
       "      <td>56</td>\n",
       "    </tr>\n",
       "  </tbody>\n",
       "</table>\n",
       "</div>"
      ],
      "text/plain": [
       "  Country or Area  Year(s)      GENDER  Value\n",
       "0     Afghanistan     2012        Male     58\n",
       "1     Afghanistan     2012      Female     61\n",
       "2     Afghanistan     2012  Both sexes     60\n",
       "3     Afghanistan     2000        Male     54\n",
       "4     Afghanistan     2000      Female     56"
      ]
     },
     "execution_count": 135,
     "metadata": {},
     "output_type": "execute_result"
    }
   ],
   "source": [
    "life_df.head()"
   ]
  },
  {
   "cell_type": "code",
   "execution_count": 136,
   "id": "ba2b4826",
   "metadata": {},
   "outputs": [],
   "source": [
    "life_df.columns = ['Country','Year','Gender','Life_expectancy']"
   ]
  },
  {
   "cell_type": "code",
   "execution_count": 137,
   "id": "16d1c29a",
   "metadata": {},
   "outputs": [
    {
     "data": {
      "text/html": [
       "<div>\n",
       "<style scoped>\n",
       "    .dataframe tbody tr th:only-of-type {\n",
       "        vertical-align: middle;\n",
       "    }\n",
       "\n",
       "    .dataframe tbody tr th {\n",
       "        vertical-align: top;\n",
       "    }\n",
       "\n",
       "    .dataframe thead th {\n",
       "        text-align: right;\n",
       "    }\n",
       "</style>\n",
       "<table border=\"1\" class=\"dataframe\">\n",
       "  <thead>\n",
       "    <tr style=\"text-align: right;\">\n",
       "      <th></th>\n",
       "      <th>Country</th>\n",
       "      <th>Year</th>\n",
       "      <th>Gender</th>\n",
       "      <th>Life_expectancy</th>\n",
       "    </tr>\n",
       "  </thead>\n",
       "  <tbody>\n",
       "    <tr>\n",
       "      <th>0</th>\n",
       "      <td>Afghanistan</td>\n",
       "      <td>2012</td>\n",
       "      <td>Male</td>\n",
       "      <td>58</td>\n",
       "    </tr>\n",
       "    <tr>\n",
       "      <th>1</th>\n",
       "      <td>Afghanistan</td>\n",
       "      <td>2012</td>\n",
       "      <td>Female</td>\n",
       "      <td>61</td>\n",
       "    </tr>\n",
       "    <tr>\n",
       "      <th>2</th>\n",
       "      <td>Afghanistan</td>\n",
       "      <td>2012</td>\n",
       "      <td>Both sexes</td>\n",
       "      <td>60</td>\n",
       "    </tr>\n",
       "    <tr>\n",
       "      <th>3</th>\n",
       "      <td>Afghanistan</td>\n",
       "      <td>2000</td>\n",
       "      <td>Male</td>\n",
       "      <td>54</td>\n",
       "    </tr>\n",
       "    <tr>\n",
       "      <th>4</th>\n",
       "      <td>Afghanistan</td>\n",
       "      <td>2000</td>\n",
       "      <td>Female</td>\n",
       "      <td>56</td>\n",
       "    </tr>\n",
       "  </tbody>\n",
       "</table>\n",
       "</div>"
      ],
      "text/plain": [
       "       Country  Year      Gender  Life_expectancy\n",
       "0  Afghanistan  2012        Male               58\n",
       "1  Afghanistan  2012      Female               61\n",
       "2  Afghanistan  2012  Both sexes               60\n",
       "3  Afghanistan  2000        Male               54\n",
       "4  Afghanistan  2000      Female               56"
      ]
     },
     "execution_count": 137,
     "metadata": {},
     "output_type": "execute_result"
    }
   ],
   "source": [
    "life_df.head()"
   ]
  },
  {
   "cell_type": "code",
   "execution_count": 138,
   "id": "6e0fe33e",
   "metadata": {},
   "outputs": [],
   "source": [
    "gdp_and_internet_and_life = pd.merge(gdp_and_internet_use, life_df, how = 'outer', on = ['Country', 'Year'])"
   ]
  },
  {
   "cell_type": "code",
   "execution_count": 139,
   "id": "887d7572",
   "metadata": {},
   "outputs": [
    {
     "name": "stdout",
     "output_type": "stream",
     "text": [
      "                                 Country  Year  GDP_Per_Capita  \\\n",
      "9128  Venezuela (Bolivarian Republic of)  2000             NaN   \n",
      "9129  Venezuela (Bolivarian Republic of)  2000             NaN   \n",
      "9130  Venezuela (Bolivarian Republic of)  1990             NaN   \n",
      "9131  Venezuela (Bolivarian Republic of)  1990             NaN   \n",
      "9132  Venezuela (Bolivarian Republic of)  1990             NaN   \n",
      "\n",
      "      internet_Users_Pct      Gender  Life_expectancy  \n",
      "9128                 NaN      Female             77.0  \n",
      "9129                 NaN  Both sexes             74.0  \n",
      "9130                 NaN        Male             70.0  \n",
      "9131                 NaN      Female             74.0  \n",
      "9132                 NaN  Both sexes             72.0  \n"
     ]
    }
   ],
   "source": [
    "print(gdp_and_internet_and_life.tail())"
   ]
  },
  {
   "cell_type": "code",
   "execution_count": 148,
   "id": "b8f2d02c",
   "metadata": {},
   "outputs": [
    {
     "data": {
      "text/html": [
       "<div>\n",
       "<style scoped>\n",
       "    .dataframe tbody tr th:only-of-type {\n",
       "        vertical-align: middle;\n",
       "    }\n",
       "\n",
       "    .dataframe tbody tr th {\n",
       "        vertical-align: top;\n",
       "    }\n",
       "\n",
       "    .dataframe thead th {\n",
       "        text-align: right;\n",
       "    }\n",
       "</style>\n",
       "<table border=\"1\" class=\"dataframe\">\n",
       "  <thead>\n",
       "    <tr style=\"text-align: right;\">\n",
       "      <th></th>\n",
       "      <th>Country</th>\n",
       "      <th>Year</th>\n",
       "      <th>GDP_Per_Capita</th>\n",
       "      <th>internet_Users_Pct</th>\n",
       "      <th>Gender</th>\n",
       "      <th>Life_expectancy</th>\n",
       "    </tr>\n",
       "  </thead>\n",
       "  <tbody>\n",
       "    <tr>\n",
       "      <th>7</th>\n",
       "      <td>Afghanistan</td>\n",
       "      <td>2012</td>\n",
       "      <td>2075.491747</td>\n",
       "      <td>5.454545</td>\n",
       "      <td>Male</td>\n",
       "      <td>58.0</td>\n",
       "    </tr>\n",
       "    <tr>\n",
       "      <th>8</th>\n",
       "      <td>Afghanistan</td>\n",
       "      <td>2012</td>\n",
       "      <td>2075.491747</td>\n",
       "      <td>5.454545</td>\n",
       "      <td>Female</td>\n",
       "      <td>61.0</td>\n",
       "    </tr>\n",
       "    <tr>\n",
       "      <th>9</th>\n",
       "      <td>Afghanistan</td>\n",
       "      <td>2012</td>\n",
       "      <td>2075.491747</td>\n",
       "      <td>5.454545</td>\n",
       "      <td>Both sexes</td>\n",
       "      <td>60.0</td>\n",
       "    </tr>\n",
       "    <tr>\n",
       "      <th>27</th>\n",
       "      <td>Albania</td>\n",
       "      <td>2012</td>\n",
       "      <td>11263.851342</td>\n",
       "      <td>54.655959</td>\n",
       "      <td>Male</td>\n",
       "      <td>73.0</td>\n",
       "    </tr>\n",
       "    <tr>\n",
       "      <th>28</th>\n",
       "      <td>Albania</td>\n",
       "      <td>2012</td>\n",
       "      <td>11263.851342</td>\n",
       "      <td>54.655959</td>\n",
       "      <td>Female</td>\n",
       "      <td>75.0</td>\n",
       "    </tr>\n",
       "  </tbody>\n",
       "</table>\n",
       "</div>"
      ],
      "text/plain": [
       "        Country  Year  GDP_Per_Capita  internet_Users_Pct      Gender  \\\n",
       "7   Afghanistan  2012     2075.491747            5.454545        Male   \n",
       "8   Afghanistan  2012     2075.491747            5.454545      Female   \n",
       "9   Afghanistan  2012     2075.491747            5.454545  Both sexes   \n",
       "27      Albania  2012    11263.851342           54.655959        Male   \n",
       "28      Albania  2012    11263.851342           54.655959      Female   \n",
       "\n",
       "    Life_expectancy  \n",
       "7              58.0  \n",
       "8              61.0  \n",
       "9              60.0  \n",
       "27             73.0  \n",
       "28             75.0  "
      ]
     },
     "execution_count": 148,
     "metadata": {},
     "output_type": "execute_result"
    }
   ],
   "source": [
    "le_years = gdp_and_internet_and_life[gdp_and_internet_and_life['Year'].isin([1990,2000,2012])]\n",
    "le_years.head()"
   ]
  },
  {
   "cell_type": "code",
   "execution_count": 149,
   "id": "45bae784",
   "metadata": {},
   "outputs": [
    {
     "name": "stdout",
     "output_type": "stream",
     "text": [
      "                                 Country  Year  GDP_Per_Capita  \\\n",
      "7                            Afghanistan  2012     2075.491747   \n",
      "27                               Albania  2012    11263.851342   \n",
      "41                               Albania  2000     5911.956097   \n",
      "53                               Albania  1990     4842.734635   \n",
      "63                               Algeria  2012    11233.534926   \n",
      "...                                  ...   ...             ...   \n",
      "9118            United States of America  2000             NaN   \n",
      "9121            United States of America  1990             NaN   \n",
      "9124  Venezuela (Bolivarian Republic of)  2012             NaN   \n",
      "9127  Venezuela (Bolivarian Republic of)  2000             NaN   \n",
      "9130  Venezuela (Bolivarian Republic of)  1990             NaN   \n",
      "\n",
      "      internet_Users_Pct Gender  Life_expectancy  \n",
      "7               5.454545   Male             58.0  \n",
      "27             54.655959   Male             73.0  \n",
      "41              0.114097   Male             68.0  \n",
      "53              0.000000   Male             67.0  \n",
      "63             15.228027   Male             70.0  \n",
      "...                  ...    ...              ...  \n",
      "9118                 NaN   Male             74.0  \n",
      "9121                 NaN   Male             72.0  \n",
      "9124                 NaN   Male             72.0  \n",
      "9127                 NaN   Male             71.0  \n",
      "9130                 NaN   Male             70.0  \n",
      "\n",
      "[582 rows x 6 columns]\n"
     ]
    }
   ],
   "source": [
    "male_le = le_years[le_years['Gender'] == 'Male']\n",
    "print(male_le)"
   ]
  },
  {
   "cell_type": "code",
   "execution_count": 150,
   "id": "566867a1",
   "metadata": {},
   "outputs": [
    {
     "name": "stdout",
     "output_type": "stream",
     "text": [
      "                                 Country  Year  GDP_Per_Capita  \\\n",
      "8                            Afghanistan  2012     2075.491747   \n",
      "28                               Albania  2012    11263.851342   \n",
      "42                               Albania  2000     5911.956097   \n",
      "54                               Albania  1990     4842.734635   \n",
      "64                               Algeria  2012    11233.534926   \n",
      "...                                  ...   ...             ...   \n",
      "9119            United States of America  2000             NaN   \n",
      "9122            United States of America  1990             NaN   \n",
      "9125  Venezuela (Bolivarian Republic of)  2012             NaN   \n",
      "9128  Venezuela (Bolivarian Republic of)  2000             NaN   \n",
      "9131  Venezuela (Bolivarian Republic of)  1990             NaN   \n",
      "\n",
      "      internet_Users_Pct  Gender  Life_expectancy  \n",
      "8               5.454545  Female             61.0  \n",
      "28             54.655959  Female             75.0  \n",
      "42              0.114097  Female             73.0  \n",
      "54              0.000000  Female             71.0  \n",
      "64             15.228027  Female             73.0  \n",
      "...                  ...     ...              ...  \n",
      "9119                 NaN  Female             80.0  \n",
      "9122                 NaN  Female             79.0  \n",
      "9125                 NaN  Female             80.0  \n",
      "9128                 NaN  Female             77.0  \n",
      "9131                 NaN  Female             74.0  \n",
      "\n",
      "[582 rows x 6 columns]\n"
     ]
    }
   ],
   "source": [
    "female_le = le_years[le_years['Gender'] == 'Female']\n",
    "print(female_le)"
   ]
  },
  {
   "cell_type": "code",
   "execution_count": 151,
   "id": "f85e592b",
   "metadata": {},
   "outputs": [
    {
     "name": "stdout",
     "output_type": "stream",
     "text": [
      "                                 Country  Year  GDP_Per_Capita  \\\n",
      "9                            Afghanistan  2012     2075.491747   \n",
      "29                               Albania  2012    11263.851342   \n",
      "43                               Albania  2000     5911.956097   \n",
      "55                               Albania  1990     4842.734635   \n",
      "65                               Algeria  2012    11233.534926   \n",
      "...                                  ...   ...             ...   \n",
      "9120            United States of America  2000             NaN   \n",
      "9123            United States of America  1990             NaN   \n",
      "9126  Venezuela (Bolivarian Republic of)  2012             NaN   \n",
      "9129  Venezuela (Bolivarian Republic of)  2000             NaN   \n",
      "9132  Venezuela (Bolivarian Republic of)  1990             NaN   \n",
      "\n",
      "      internet_Users_Pct      Gender  Life_expectancy  \n",
      "9               5.454545  Both sexes             60.0  \n",
      "29             54.655959  Both sexes             74.0  \n",
      "43              0.114097  Both sexes             70.0  \n",
      "55              0.000000  Both sexes             69.0  \n",
      "65             15.228027  Both sexes             72.0  \n",
      "...                  ...         ...              ...  \n",
      "9120                 NaN  Both sexes             77.0  \n",
      "9123                 NaN  Both sexes             75.0  \n",
      "9126                 NaN  Both sexes             76.0  \n",
      "9129                 NaN  Both sexes             74.0  \n",
      "9132                 NaN  Both sexes             72.0  \n",
      "\n",
      "[582 rows x 6 columns]\n"
     ]
    }
   ],
   "source": [
    "both_le = le_years[le_years['Gender'] == 'Both sexes']\n",
    "print(both_le)"
   ]
  },
  {
   "cell_type": "code",
   "execution_count": 144,
   "id": "d0b8fd02",
   "metadata": {},
   "outputs": [
    {
     "name": "stdout",
     "output_type": "stream",
     "text": [
      "          Country  Year  GDP_Per_Capita  internet_Users_Pct Gender  \\\n",
      "6000   San Marino  2012    59337.826417                 NaN   Male   \n",
      "301     Australia  2012    46571.474558             79.0000   Male   \n",
      "2997      Iceland  2012    47679.729181             96.2098   Male   \n",
      "6829  Switzerland  2012    64585.095026             85.2000   Male   \n",
      "1130       Canada  2012    46230.731998             83.0000   Male   \n",
      "\n",
      "      Life_expectancy  \n",
      "6000             82.0  \n",
      "301              81.0  \n",
      "2997             81.0  \n",
      "6829             81.0  \n",
      "1130             80.0  \n"
     ]
    }
   ],
   "source": [
    "top5male_le = male_le.nlargest(5, 'Life_expectancy')\n",
    "print(top5male_le)"
   ]
  },
  {
   "cell_type": "code",
   "execution_count": 158,
   "id": "ce1a3a1b",
   "metadata": {},
   "outputs": [
    {
     "name": "stdout",
     "output_type": "stream",
     "text": [
      "        Country  Year  GDP_Per_Capita  internet_Users_Pct  Gender  \\\n",
      "3436      Japan  2012    38354.192761           79.496400  Female   \n",
      "7782    Andorra  2012             NaN           86.434425  Female   \n",
      "8525     Monaco  2012             NaN           87.000000  Female   \n",
      "302   Australia  2012    46571.474558           79.000000  Female   \n",
      "2377     France  2012    42927.315206           81.440000  Female   \n",
      "\n",
      "      Life_expectancy  \n",
      "3436             87.0  \n",
      "7782             86.0  \n",
      "8525             86.0  \n",
      "302              85.0  \n",
      "2377             85.0  \n"
     ]
    }
   ],
   "source": [
    "top5female_le = female_le.nlargest(5, 'Life_expectancy')\n",
    "print(top5female_le)"
   ]
  },
  {
   "cell_type": "code",
   "execution_count": 159,
   "id": "071b1286",
   "metadata": {},
   "outputs": [
    {
     "name": "stdout",
     "output_type": "stream",
     "text": [
      "         Country  Year  GDP_Per_Capita  internet_Users_Pct      Gender  \\\n",
      "3437       Japan  2012    38354.192761           79.496400  Both sexes   \n",
      "303    Australia  2012    46571.474558           79.000000  Both sexes   \n",
      "3365       Italy  2012    41634.236882           55.829998  Both sexes   \n",
      "6002  San Marino  2012    59337.826417                 NaN  Both sexes   \n",
      "6202   Singapore  2012    82969.561721           72.000000  Both sexes   \n",
      "\n",
      "      Life_expectancy  \n",
      "3437             84.0  \n",
      "303              83.0  \n",
      "3365             83.0  \n",
      "6002             83.0  \n",
      "6202             83.0  \n"
     ]
    }
   ],
   "source": [
    "top5both_le = both_le.nlargest(5, 'Life_expectancy')\n",
    "print(top5both_le)"
   ]
  },
  {
   "cell_type": "code",
   "execution_count": null,
   "id": "be4ef78f",
   "metadata": {},
   "outputs": [],
   "source": []
  }
 ],
 "metadata": {
  "kernelspec": {
   "display_name": "Python 3 (ipykernel)",
   "language": "python",
   "name": "python3"
  },
  "language_info": {
   "codemirror_mode": {
    "name": "ipython",
    "version": 3
   },
   "file_extension": ".py",
   "mimetype": "text/x-python",
   "name": "python",
   "nbconvert_exporter": "python",
   "pygments_lexer": "ipython3",
   "version": "3.9.12"
  }
 },
 "nbformat": 4,
 "nbformat_minor": 5
}
